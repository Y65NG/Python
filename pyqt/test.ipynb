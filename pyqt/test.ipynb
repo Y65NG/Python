{
 "cells": [
  {
   "cell_type": "code",
   "execution_count": 4,
   "metadata": {},
   "outputs": [
    {
     "data": {
      "text/plain": [
       "0"
      ]
     },
     "execution_count": 4,
     "metadata": {},
     "output_type": "execute_result"
    }
   ],
   "source": [
    "from PyQt5.QtWidgets import QApplication, QLabel\n",
    "\n",
    "app = QApplication([])\n",
    "\n",
    "label = QLabel('Hello, world!')\n",
    "label.show()\n",
    "button = QPushButton('Press')\n",
    "button.show()\n",
    "app.exec()"
   ]
  },
  {
   "cell_type": "code",
   "execution_count": 3,
   "metadata": {},
   "outputs": [
    {
     "ename": "ImportError",
     "evalue": "dlopen(/Users/afu/opt/anaconda3/lib/python3.9/site-packages/PySide2/QtWidgets.abi3.so, 0x0002): Symbol not found: __ZN10QTabWidget13setTabVisibleEib\n  Referenced from: /Users/afu/opt/anaconda3/lib/python3.9/site-packages/PySide2/QtWidgets.abi3.so\n  Expected in: /Users/afu/opt/anaconda3/lib/python3.9/site-packages/PyQt5/Qt/lib/QtWidgets.framework/Versions/5/QtWidgets",
     "output_type": "error",
     "traceback": [
      "\u001b[0;31m---------------------------------------------------------------------------\u001b[0m",
      "\u001b[0;31mImportError\u001b[0m                               Traceback (most recent call last)",
      "\u001b[0;32m/var/folders/j9/nmh3ks6x1v5bdtghqrbvrwrw0000gn/T/ipykernel_2568/897516383.py\u001b[0m in \u001b[0;36m<module>\u001b[0;34m\u001b[0m\n\u001b[0;32m----> 1\u001b[0;31m \u001b[0;32mfrom\u001b[0m \u001b[0mPySide2\u001b[0m\u001b[0;34m.\u001b[0m\u001b[0mQtWidgets\u001b[0m \u001b[0;32mimport\u001b[0m \u001b[0;34m*\u001b[0m\u001b[0;34m\u001b[0m\u001b[0;34m\u001b[0m\u001b[0m\n\u001b[0m\u001b[1;32m      2\u001b[0m \u001b[0;34m\u001b[0m\u001b[0m\n\u001b[1;32m      3\u001b[0m \u001b[0;32mdef\u001b[0m \u001b[0mon_button_clicked\u001b[0m\u001b[0;34m(\u001b[0m\u001b[0;34m)\u001b[0m\u001b[0;34m:\u001b[0m\u001b[0;34m\u001b[0m\u001b[0;34m\u001b[0m\u001b[0m\n\u001b[1;32m      4\u001b[0m     \u001b[0malert\u001b[0m \u001b[0;34m=\u001b[0m \u001b[0mQMessageBox\u001b[0m\u001b[0;34m(\u001b[0m\u001b[0;34m)\u001b[0m\u001b[0;34m\u001b[0m\u001b[0;34m\u001b[0m\u001b[0m\n\u001b[1;32m      5\u001b[0m     \u001b[0malert\u001b[0m\u001b[0;34m.\u001b[0m\u001b[0msetText\u001b[0m\u001b[0;34m(\u001b[0m\u001b[0;34m'You clicked the button'\u001b[0m\u001b[0;34m)\u001b[0m\u001b[0;34m\u001b[0m\u001b[0;34m\u001b[0m\u001b[0m\n",
      "\u001b[0;32m~/opt/anaconda3/lib/python3.9/site-packages/shiboken2/files.dir/shibokensupport/__feature__.py\u001b[0m in \u001b[0;36m_import\u001b[0;34m(name, *args, **kwargs)\u001b[0m\n\u001b[1;32m    140\u001b[0m         \u001b[0mflag\u001b[0m \u001b[0;34m=\u001b[0m \u001b[0;34m-\u001b[0m\u001b[0;36m1\u001b[0m\u001b[0;34m\u001b[0m\u001b[0;34m\u001b[0m\u001b[0m\n\u001b[1;32m    141\u001b[0m     \u001b[0mpyside_feature_dict\u001b[0m\u001b[0;34m[\u001b[0m\u001b[0mimporting_module\u001b[0m\u001b[0;34m]\u001b[0m \u001b[0;34m=\u001b[0m \u001b[0mflag\u001b[0m\u001b[0;34m\u001b[0m\u001b[0;34m\u001b[0m\u001b[0m\n\u001b[0;32m--> 142\u001b[0;31m     \u001b[0;32mreturn\u001b[0m \u001b[0moriginal_import\u001b[0m\u001b[0;34m(\u001b[0m\u001b[0mname\u001b[0m\u001b[0;34m,\u001b[0m \u001b[0;34m*\u001b[0m\u001b[0margs\u001b[0m\u001b[0;34m,\u001b[0m \u001b[0;34m**\u001b[0m\u001b[0mkwargs\u001b[0m\u001b[0;34m)\u001b[0m\u001b[0;34m\u001b[0m\u001b[0;34m\u001b[0m\u001b[0m\n\u001b[0m\u001b[1;32m    143\u001b[0m \u001b[0;34m\u001b[0m\u001b[0m\n\u001b[1;32m    144\u001b[0m \u001b[0m_is_initialized\u001b[0m \u001b[0;34m=\u001b[0m \u001b[0;32mFalse\u001b[0m\u001b[0;34m\u001b[0m\u001b[0;34m\u001b[0m\u001b[0m\n",
      "\u001b[0;31mImportError\u001b[0m: dlopen(/Users/afu/opt/anaconda3/lib/python3.9/site-packages/PySide2/QtWidgets.abi3.so, 0x0002): Symbol not found: __ZN10QTabWidget13setTabVisibleEib\n  Referenced from: /Users/afu/opt/anaconda3/lib/python3.9/site-packages/PySide2/QtWidgets.abi3.so\n  Expected in: /Users/afu/opt/anaconda3/lib/python3.9/site-packages/PyQt5/Qt/lib/QtWidgets.framework/Versions/5/QtWidgets"
     ]
    }
   ],
   "source": [
    "from PyQt5.QtWidgets import *\n",
    "\n",
    "def on_button_clicked():\n",
    "    alert = QMessageBox()\n",
    "    alert.setText('You clicked the button')\n",
    "    alert.exec()\n",
    "\n",
    "app = QApplication([])\n",
    "# app.setStyle('Fusion')\n",
    "window = QWidget()\n",
    "layout = QVBoxLayout()\n",
    "b1 = QPushButton('Top')\n",
    "b1.clicked.connect(on_button_clicked)\n",
    "layout.addWidget(b1)\n",
    "layout.addWidget(QPushButton('Bottom'))\n",
    "window.setLayout(layout)\n",
    "window.show()\n",
    "app.exec()"
   ]
  },
  {
   "cell_type": "code",
   "execution_count": 1,
   "metadata": {},
   "outputs": [
    {
     "name": "stderr",
     "output_type": "stream",
     "text": [
      "2021-12-13 09:13:34.517 python[2679:45131] TSM AdjustCapsLockLEDForKeyTransitionHandling - _ISSetPhysicalKeyboardCapsLockLED Inhibit\n"
     ]
    },
    {
     "data": {
      "text/plain": [
       "0"
      ]
     },
     "execution_count": 1,
     "metadata": {},
     "output_type": "execute_result"
    }
   ],
   "source": [
    "from PyQt5.QtWidgets import QApplication, QMainWindow, QPushButton,  QPlainTextEdit\n",
    "\n",
    "app = QApplication([])\n",
    "\n",
    "window = QMainWindow()\n",
    "window.resize(500, 400)\n",
    "window.move(300, 310)\n",
    "window.setWindowTitle('薪资统计')\n",
    "\n",
    "textEdit = QPlainTextEdit(window)\n",
    "textEdit.setPlaceholderText(\"请输入薪资表\")\n",
    "textEdit.move(10,25)\n",
    "textEdit.resize(300,350)\n",
    "\n",
    "button = QPushButton('统计', window)\n",
    "button.move(380,80)\n",
    "\n",
    "window.show()\n",
    "\n",
    "app.exec_()"
   ]
  },
  {
   "cell_type": "code",
   "execution_count": 3,
   "metadata": {},
   "outputs": [
    {
     "ename": "ImportError",
     "evalue": "dlopen(/Users/afu/opt/anaconda3/lib/python3.9/site-packages/PySide2/QtWidgets.abi3.so, 0x0002): Symbol not found: __ZN10QTabWidget13setTabVisibleEib\n  Referenced from: /Users/afu/opt/anaconda3/lib/python3.9/site-packages/PySide2/QtWidgets.abi3.so\n  Expected in: /Users/afu/opt/anaconda3/lib/python3.9/site-packages/PyQt5/Qt/lib/QtWidgets.framework/Versions/5/QtWidgets",
     "output_type": "error",
     "traceback": [
      "\u001b[0;31m---------------------------------------------------------------------------\u001b[0m",
      "\u001b[0;31mImportError\u001b[0m                               Traceback (most recent call last)",
      "\u001b[0;32m/var/folders/j9/nmh3ks6x1v5bdtghqrbvrwrw0000gn/T/ipykernel_3842/835362568.py\u001b[0m in \u001b[0;36m<module>\u001b[0;34m\u001b[0m\n\u001b[0;32m----> 1\u001b[0;31m \u001b[0;32mfrom\u001b[0m \u001b[0mPySide2\u001b[0m\u001b[0;34m.\u001b[0m\u001b[0mQtWidgets\u001b[0m \u001b[0;32mimport\u001b[0m \u001b[0;34m*\u001b[0m\u001b[0;34m\u001b[0m\u001b[0;34m\u001b[0m\u001b[0m\n\u001b[0m\u001b[1;32m      2\u001b[0m \u001b[0;32mfrom\u001b[0m \u001b[0mPySide2\u001b[0m\u001b[0;34m.\u001b[0m\u001b[0mQtUiTools\u001b[0m \u001b[0;32mimport\u001b[0m \u001b[0mQUiLoader\u001b[0m\u001b[0;34m\u001b[0m\u001b[0;34m\u001b[0m\u001b[0m\n\u001b[1;32m      3\u001b[0m \u001b[0;32mfrom\u001b[0m \u001b[0mPySide2\u001b[0m\u001b[0;34m.\u001b[0m\u001b[0mQtCore\u001b[0m \u001b[0;32mimport\u001b[0m \u001b[0mQFile\u001b[0m\u001b[0;34m\u001b[0m\u001b[0;34m\u001b[0m\u001b[0m\n\u001b[1;32m      4\u001b[0m \u001b[0;34m\u001b[0m\u001b[0m\n\u001b[1;32m      5\u001b[0m \u001b[0;32mclass\u001b[0m \u001b[0mStats\u001b[0m\u001b[0;34m:\u001b[0m\u001b[0;34m\u001b[0m\u001b[0;34m\u001b[0m\u001b[0m\n",
      "\u001b[0;32m~/opt/anaconda3/lib/python3.9/site-packages/shiboken2/files.dir/shibokensupport/__feature__.py\u001b[0m in \u001b[0;36m_import\u001b[0;34m(name, *args, **kwargs)\u001b[0m\n\u001b[1;32m    140\u001b[0m         \u001b[0mflag\u001b[0m \u001b[0;34m=\u001b[0m \u001b[0;34m-\u001b[0m\u001b[0;36m1\u001b[0m\u001b[0;34m\u001b[0m\u001b[0;34m\u001b[0m\u001b[0m\n\u001b[1;32m    141\u001b[0m     \u001b[0mpyside_feature_dict\u001b[0m\u001b[0;34m[\u001b[0m\u001b[0mimporting_module\u001b[0m\u001b[0;34m]\u001b[0m \u001b[0;34m=\u001b[0m \u001b[0mflag\u001b[0m\u001b[0;34m\u001b[0m\u001b[0;34m\u001b[0m\u001b[0m\n\u001b[0;32m--> 142\u001b[0;31m     \u001b[0;32mreturn\u001b[0m \u001b[0moriginal_import\u001b[0m\u001b[0;34m(\u001b[0m\u001b[0mname\u001b[0m\u001b[0;34m,\u001b[0m \u001b[0;34m*\u001b[0m\u001b[0margs\u001b[0m\u001b[0;34m,\u001b[0m \u001b[0;34m**\u001b[0m\u001b[0mkwargs\u001b[0m\u001b[0;34m)\u001b[0m\u001b[0;34m\u001b[0m\u001b[0;34m\u001b[0m\u001b[0m\n\u001b[0m\u001b[1;32m    143\u001b[0m \u001b[0;34m\u001b[0m\u001b[0m\n\u001b[1;32m    144\u001b[0m \u001b[0m_is_initialized\u001b[0m \u001b[0;34m=\u001b[0m \u001b[0;32mFalse\u001b[0m\u001b[0;34m\u001b[0m\u001b[0;34m\u001b[0m\u001b[0m\n",
      "\u001b[0;31mImportError\u001b[0m: dlopen(/Users/afu/opt/anaconda3/lib/python3.9/site-packages/PySide2/QtWidgets.abi3.so, 0x0002): Symbol not found: __ZN10QTabWidget13setTabVisibleEib\n  Referenced from: /Users/afu/opt/anaconda3/lib/python3.9/site-packages/PySide2/QtWidgets.abi3.so\n  Expected in: /Users/afu/opt/anaconda3/lib/python3.9/site-packages/PyQt5/Qt/lib/QtWidgets.framework/Versions/5/QtWidgets"
     ]
    }
   ],
   "source": [
    "from PySide2.QtWidgets import *\n",
    "from PySide2.QtUiTools import QUiLoader\n",
    "from PySide2.QtCore import QFile\n",
    "\n",
    "class Stats:\n",
    "    \n",
    "    def __init__(self):\n",
    "        qfile = QFile('stats.ui')\n",
    "        qfile.open(QFile.ReadOnly)\n",
    "        qfile.close()\n",
    "        \n",
    "        self.ui = QUiLoader().load(qfile)\n",
    "        self.ui.button.clicked.connect(self.calc)\n",
    "        \n",
    "    def calc(self):\n",
    "        data = self.ui.textEdit.toPlainText()\n",
    "        self.ui.button.setText('clicked')"
   ]
  },
  {
   "cell_type": "code",
   "execution_count": 4,
   "metadata": {},
   "outputs": [
    {
     "ename": "ModuleNotFoundError",
     "evalue": "No module named 'Qt'",
     "output_type": "error",
     "traceback": [
      "\u001b[0;31m---------------------------------------------------------------------------\u001b[0m",
      "\u001b[0;31mModuleNotFoundError\u001b[0m                       Traceback (most recent call last)",
      "\u001b[0;32m/var/folders/j9/nmh3ks6x1v5bdtghqrbvrwrw0000gn/T/ipykernel_3842/280987963.py\u001b[0m in \u001b[0;36m<module>\u001b[0;34m\u001b[0m\n\u001b[0;32m----> 1\u001b[0;31m \u001b[0;32mfrom\u001b[0m \u001b[0mQt\u001b[0m \u001b[0;32mimport\u001b[0m \u001b[0mQtWidgets\u001b[0m\u001b[0;34m,\u001b[0m \u001b[0mQtCore\u001b[0m\u001b[0;34m,\u001b[0m \u001b[0mQtGui\u001b[0m\u001b[0;34m\u001b[0m\u001b[0;34m\u001b[0m\u001b[0m\n\u001b[0m",
      "\u001b[0;32m~/opt/anaconda3/lib/python3.9/site-packages/shiboken2/files.dir/shibokensupport/__feature__.py\u001b[0m in \u001b[0;36m_import\u001b[0;34m(name, *args, **kwargs)\u001b[0m\n\u001b[1;32m    140\u001b[0m         \u001b[0mflag\u001b[0m \u001b[0;34m=\u001b[0m \u001b[0;34m-\u001b[0m\u001b[0;36m1\u001b[0m\u001b[0;34m\u001b[0m\u001b[0;34m\u001b[0m\u001b[0m\n\u001b[1;32m    141\u001b[0m     \u001b[0mpyside_feature_dict\u001b[0m\u001b[0;34m[\u001b[0m\u001b[0mimporting_module\u001b[0m\u001b[0;34m]\u001b[0m \u001b[0;34m=\u001b[0m \u001b[0mflag\u001b[0m\u001b[0;34m\u001b[0m\u001b[0;34m\u001b[0m\u001b[0m\n\u001b[0;32m--> 142\u001b[0;31m     \u001b[0;32mreturn\u001b[0m \u001b[0moriginal_import\u001b[0m\u001b[0;34m(\u001b[0m\u001b[0mname\u001b[0m\u001b[0;34m,\u001b[0m \u001b[0;34m*\u001b[0m\u001b[0margs\u001b[0m\u001b[0;34m,\u001b[0m \u001b[0;34m**\u001b[0m\u001b[0mkwargs\u001b[0m\u001b[0;34m)\u001b[0m\u001b[0;34m\u001b[0m\u001b[0;34m\u001b[0m\u001b[0m\n\u001b[0m\u001b[1;32m    143\u001b[0m \u001b[0;34m\u001b[0m\u001b[0m\n\u001b[1;32m    144\u001b[0m \u001b[0m_is_initialized\u001b[0m \u001b[0;34m=\u001b[0m \u001b[0;32mFalse\u001b[0m\u001b[0;34m\u001b[0m\u001b[0;34m\u001b[0m\u001b[0m\n",
      "\u001b[0;31mModuleNotFoundError\u001b[0m: No module named 'Qt'"
     ]
    }
   ],
   "source": [
    "from Qt import QtWidgets, QtCore, QtGui"
   ]
  }
 ],
 "metadata": {
  "interpreter": {
   "hash": "c669a19efb844d0f382cb54a252a9dc23a5c877d7c91392eec4773c0a1310df7"
  },
  "kernelspec": {
   "display_name": "Python 3.9.7 64-bit ('base': conda)",
   "language": "python",
   "name": "python3"
  },
  "language_info": {
   "codemirror_mode": {
    "name": "ipython",
    "version": 3
   },
   "file_extension": ".py",
   "mimetype": "text/x-python",
   "name": "python",
   "nbconvert_exporter": "python",
   "pygments_lexer": "ipython3",
   "version": "3.9.7"
  },
  "orig_nbformat": 4
 },
 "nbformat": 4,
 "nbformat_minor": 2
}
