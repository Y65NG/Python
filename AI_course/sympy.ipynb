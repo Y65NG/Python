{
 "cells": [
  {
   "cell_type": "code",
   "execution_count": null,
   "source": [
    "from sympy import *\n",
    "\n",
    "x = Symbol('x')\n",
    "f = x**3 + 2 * x**2 + 1\n",
    "# Integral(f, x)\n",
    "integrate(f, x)\n",
    "limit(f, x, 2)\n",
    "integrate(f, (x, 0, oo))\n",
    "limit(x/(x-4), x, 4)"
   ],
   "outputs": [],
   "metadata": {}
  }
 ],
 "metadata": {
  "orig_nbformat": 4,
  "language_info": {
   "name": "python"
  }
 },
 "nbformat": 4,
 "nbformat_minor": 2
}