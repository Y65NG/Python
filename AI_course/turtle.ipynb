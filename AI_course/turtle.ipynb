{
 "cells": [
  {
   "cell_type": "markdown",
   "source": [
    "# Task 1"
   ],
   "metadata": {}
  },
  {
   "cell_type": "code",
   "execution_count": 1,
   "source": [
    "import numpy as np\n",
    "\n",
    "from turtle import *\n"
   ],
   "outputs": [],
   "metadata": {}
  },
  {
   "cell_type": "code",
   "execution_count": null,
   "source": [
    "\n",
    "left(72)\n",
    "for _ in range(5):\n",
    "    forward(100)\n",
    "    right(144)\n",
    "    \n",
    "done()\n"
   ],
   "outputs": [],
   "metadata": {}
  },
  {
   "cell_type": "code",
   "execution_count": 2,
   "source": [
    "right(60)\n",
    "forward(50)\n",
    "for _ in range(6):\n",
    "    left(60)\n",
    "    forward(50)\n",
    "    right(120)\n",
    "    forward(50)\n",
    "for _ in range(6):\n",
    "    forward(50)\n",
    "    right(60)\n",
    "done()"
   ],
   "outputs": [],
   "metadata": {}
  },
  {
   "cell_type": "code",
   "execution_count": null,
   "source": [
    "circle(100, extent=180, steps=200)\n",
    "done()"
   ],
   "outputs": [],
   "metadata": {}
  },
  {
   "cell_type": "markdown",
   "source": [
    "# Task 2"
   ],
   "metadata": {}
  },
  {
   "cell_type": "code",
   "execution_count": 4,
   "source": [
    "import numpy as np\n",
    "\n",
    "from turtle import *"
   ],
   "outputs": [],
   "metadata": {}
  },
  {
   "cell_type": "code",
   "execution_count": 4,
   "source": [
    "def angle(n):\n",
    "    return 180 * (n - 2) / n\n",
    "\n",
    "P1, P2 = [], []\n",
    "n = 100\n",
    "theta = angle(n)\n",
    "for i in range(n):\n",
    "    P1.append(pos())\n",
    "    forward(500 / n)\n",
    "    right(180 - theta)\n",
    "\n",
    "penup()\n",
    "forward(100)\n",
    "pendown()\n",
    "for i in range(n):\n",
    "    P2.append(pos())\n",
    "    forward(500 / n)\n",
    "    right(180 - theta)\n",
    "done()"
   ],
   "outputs": [],
   "metadata": {}
  },
  {
   "cell_type": "code",
   "execution_count": 6,
   "source": [
    "def distance(p1, p2):\n",
    "    x1, y1 = p1\n",
    "    x2, y2 = p2\n",
    "    return ((x1 - x2)**2 + (y1 - y2)**2)**0.5"
   ],
   "outputs": [],
   "metadata": {}
  },
  {
   "cell_type": "code",
   "execution_count": 7,
   "source": [
    "group = []\n",
    "for p_1 in P1:\n",
    "    for p_2 in P2:\n",
    "        if abs(p_1[0] - p_2[0]) < 3 and abs(p_1[1] - p_2[1]) < 3:\n",
    "            group.append(p_1)\n",
    "            group.append(p_2)\n",
    "# print(len(p1) + len(p2), len(group))\n",
    "print(group)"
   ],
   "outputs": [
    {
     "output_type": "stream",
     "name": "stdout",
     "text": [
      "[(51.28,-16.66), (53.72,-16.66), (51.28,-142.44), (53.72,-142.44)]\n"
     ]
    }
   ],
   "metadata": {}
  },
  {
   "cell_type": "code",
   "execution_count": 8,
   "source": [
    "distance(group[0], group[2])"
   ],
   "outputs": [
    {
     "output_type": "execute_result",
     "data": {
      "text/plain": [
       "125.77776462044903"
      ]
     },
     "metadata": {},
     "execution_count": 8
    }
   ],
   "metadata": {}
  },
  {
   "cell_type": "code",
   "execution_count": null,
   "source": [],
   "outputs": [],
   "metadata": {}
  }
 ],
 "metadata": {
  "orig_nbformat": 4,
  "language_info": {
   "name": "python",
   "version": "3.8.5",
   "mimetype": "text/x-python",
   "codemirror_mode": {
    "name": "ipython",
    "version": 3
   },
   "pygments_lexer": "ipython3",
   "nbconvert_exporter": "python",
   "file_extension": ".py"
  },
  "kernelspec": {
   "name": "python3",
   "display_name": "Python 3.8.5 64-bit ('base': conda)"
  },
  "interpreter": {
   "hash": "1265565e84b9ee442e8495c811fced6702fec999448d037553e671d32787facd"
  }
 },
 "nbformat": 4,
 "nbformat_minor": 2
}