{
 "cells": [
  {
   "cell_type": "code",
   "execution_count": 28,
   "metadata": {},
   "outputs": [],
   "source": [
    "import MySQLdb as sql\n",
    "\n",
    "conn = sql.connect(\n",
    "    host='localhost',\n",
    "    port=3306,\n",
    "    user='root',\n",
    "    passwd='Y65ng2004010@',\n",
    "    db='test',\n",
    ")\n",
    "\n",
    "cur = conn.cursor()\n",
    "# cur.execute('create table student2(id int auto_increment ,name varchar(20),class varchar(30),age varchar(10), primary key (id))')\n",
    "# cur.execute(\"insert into student2(name, class, age) values('Tom','3 year 2 class','9')\")\n",
    "# cur.close()\n",
    "\n",
    "# conn.commit()\n",
    "# conn.close()"
   ]
  },
  {
   "cell_type": "code",
   "execution_count": 19,
   "metadata": {},
   "outputs": [
    {
     "data": {
      "text/plain": [
       "((2, 'Tom', '3 year 2 class', '9'), (2, 'Tom', '3 year 2 class', '9'))"
      ]
     },
     "execution_count": 19,
     "metadata": {},
     "output_type": "execute_result"
    }
   ],
   "source": [
    "cur.execute('select * from student where id = 2')\n",
    "result = cur.fetchall()\n",
    "result"
   ]
  },
  {
   "cell_type": "code",
   "execution_count": null,
   "metadata": {},
   "outputs": [],
   "source": []
  }
 ],
 "metadata": {
  "interpreter": {
   "hash": "c669a19efb844d0f382cb54a252a9dc23a5c877d7c91392eec4773c0a1310df7"
  },
  "kernelspec": {
   "display_name": "Python 3.9.7 64-bit ('base': conda)",
   "language": "python",
   "name": "python3"
  },
  "language_info": {
   "codemirror_mode": {
    "name": "ipython",
    "version": 3
   },
   "file_extension": ".py",
   "mimetype": "text/x-python",
   "name": "python",
   "nbconvert_exporter": "python",
   "pygments_lexer": "ipython3",
   "version": "3.9.7"
  },
  "orig_nbformat": 4
 },
 "nbformat": 4,
 "nbformat_minor": 2
}
