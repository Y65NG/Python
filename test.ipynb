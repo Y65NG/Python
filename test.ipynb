{
 "cells": [
  {
   "cell_type": "code",
   "execution_count": null,
   "metadata": {},
   "outputs": [],
   "source": [
    "import numpy as np\n",
    "import pandas as pd\n",
    "import matplotlib.pyplot as plt"
   ]
  },
  {
   "cell_type": "code",
   "execution_count": null,
   "metadata": {},
   "outputs": [],
   "source": [
    "def f(x):\n",
    "    return lambda y: y * x\n",
    "\n",
    "f(3)(3)"
   ]
  },
  {
   "cell_type": "code",
   "execution_count": null,
   "metadata": {},
   "outputs": [],
   "source": [
    "def fibo(n):\n",
    "    if n == 1: return 1\n",
    "    elif n == 2: return 1\n",
    "    else: return fibo(n - 1) + fibo(n - 2)\n",
    "\n",
    "fibo(10)"
   ]
  },
  {
   "cell_type": "code",
   "execution_count": null,
   "metadata": {},
   "outputs": [],
   "source": [
    "inputs_gen=iter(open().read().split())\n",
    "def input():\n",
    "    return next(inputs_gen)"
   ]
  },
  {
   "cell_type": "code",
   "execution_count": null,
   "metadata": {},
   "outputs": [],
   "source": [
    "l=[]\n",
    "l.sort(key=lambda each: each.x)"
   ]
  },
  {
   "cell_type": "code",
   "execution_count": null,
   "metadata": {},
   "outputs": [],
   "source": [
    "arr = np.arange(9).reshape(3, 3)\n",
    "print(arr)\n",
    "print(arr.nonzero())"
   ]
  },
  {
   "cell_type": "code",
   "execution_count": null,
   "metadata": {},
   "outputs": [],
   "source": [
    "# coding=utf-8\n",
    "#服务端程序\n",
    "# 导入模块\n",
    "import socket\n",
    " \n",
    "# 创建实例\n",
    "sk = socket.socket()  # 使用默认参数\n",
    "# 定义ip和port\n",
    "ip_port = ('127.0.0.1', 5000)\n",
    "# 绑定监听\n",
    "sk.bind(ip_port)\n",
    "# 最大连接数\n",
    "sk.listen(5)\n",
    "#接收数据\n",
    "print(\"正在接收数据...\")\n",
    "conn, address=sk.accept()#两个值:连接对象,地址\n",
    "#定义信息\n",
    "msg=\"hello World\"\n",
    "#返回信息\n",
    "conn.send(msg)#python版本为3.x则需要进行编码\n",
    "#关闭\n",
    "conn.close()"
   ]
  },
  {
   "cell_type": "code",
   "execution_count": null,
   "metadata": {},
   "outputs": [],
   "source": [
    "import socket\n",
    " \n",
    "# 实例初始化\n",
    "client = socket.socket()\n",
    " \n",
    "ip_port = ('127.0.0.1', 5000)\n",
    "# 连接主机\n",
    "client.connect(ip_port)\n",
    "# 接收主机信息\n",
    "data = client.recv(1024) #每次接收缓冲区1024字节\n",
    "print(data) #py3则需要解码"
   ]
  },
  {
   "cell_type": "code",
   "execution_count": null,
   "metadata": {},
   "outputs": [],
   "source": [
    "import cv2\n",
    "import numpy as np\n",
    "\n",
    "img = cv2.imread('test.jpg')"
   ]
  },
  {
   "cell_type": "code",
   "execution_count": null,
   "metadata": {},
   "outputs": [],
   "source": [
    "import nltk\n",
    "from nltk.tokenize import sent_tokenize, word_tokenize\n",
    "from nltk.corpus import stopwords\n",
    "from nltk.stem import PorterStemmer, WordNetLemmatizer\n",
    "from nltk.cluster.util import cosine_distance\n",
    "\n",
    "EXAMPLE = 'Hello Mr. Smith, how are you doing today? The weather is great, and Python is awesome. The sky is pinkish-blue. You shouldn\\'t eat cardboard.'\n",
    "\n",
    "stops = set(stopwords.words('english'))\n",
    "result = [w for w in word_tokenize(EXAMPLE) if w not in stops]\n",
    "print(result)\n"
   ]
  },
  {
   "cell_type": "code",
   "execution_count": null,
   "metadata": {},
   "outputs": [],
   "source": [
    "ps = PorterStemmer()\n",
    "lem = WordNetLemmatizer()\n",
    "\n",
    "words = ['male', 'man', 'run', 'ran', 'running']\n",
    "print([ps.stem(w) for w in words])\n",
    "print([lem.lemmatize(w, pos='v') for w in words])"
   ]
  },
  {
   "cell_type": "code",
   "execution_count": null,
   "metadata": {},
   "outputs": [],
   "source": [
    "def test(int: a, str: b):\n",
    "    pass\n",
    "\n",
    "def fibo(n):\n",
    "    if n < 3: return 1\n",
    "    else: return fibo(n) + fibo(n - 2)"
   ]
  },
  {
   "cell_type": "code",
   "execution_count": 1,
   "metadata": {},
   "outputs": [
    {
     "ename": "RuntimeError",
     "evalue": "asyncio.run() cannot be called from a running event loop",
     "output_type": "error",
     "traceback": [
      "\u001b[0;31m---------------------------------------------------------------------------\u001b[0m",
      "\u001b[0;31mRuntimeError\u001b[0m                              Traceback (most recent call last)",
      "\u001b[0;32m/var/folders/j9/nmh3ks6x1v5bdtghqrbvrwrw0000gn/T/ipykernel_3729/1885166199.py\u001b[0m in \u001b[0;36m<module>\u001b[0;34m\u001b[0m\n\u001b[1;32m      9\u001b[0m     \u001b[0;32mawait\u001b[0m \u001b[0maio\u001b[0m\u001b[0;34m.\u001b[0m\u001b[0mgather\u001b[0m\u001b[0;34m(\u001b[0m\u001b[0mcount\u001b[0m\u001b[0;34m(\u001b[0m\u001b[0;34m)\u001b[0m\u001b[0;34m,\u001b[0m \u001b[0mcount\u001b[0m\u001b[0;34m(\u001b[0m\u001b[0;34m)\u001b[0m\u001b[0;34m)\u001b[0m\u001b[0;34m\u001b[0m\u001b[0;34m\u001b[0m\u001b[0m\n\u001b[1;32m     10\u001b[0m \u001b[0;34m\u001b[0m\u001b[0m\n\u001b[0;32m---> 11\u001b[0;31m \u001b[0maio\u001b[0m\u001b[0;34m.\u001b[0m\u001b[0mrun\u001b[0m\u001b[0;34m(\u001b[0m\u001b[0mmain\u001b[0m\u001b[0;34m(\u001b[0m\u001b[0;34m)\u001b[0m\u001b[0;34m)\u001b[0m\u001b[0;34m\u001b[0m\u001b[0;34m\u001b[0m\u001b[0m\n\u001b[0m",
      "\u001b[0;32m~/opt/anaconda3/lib/python3.8/asyncio/runners.py\u001b[0m in \u001b[0;36mrun\u001b[0;34m(main, debug)\u001b[0m\n\u001b[1;32m     31\u001b[0m     \"\"\"\n\u001b[1;32m     32\u001b[0m     \u001b[0;32mif\u001b[0m \u001b[0mevents\u001b[0m\u001b[0;34m.\u001b[0m\u001b[0m_get_running_loop\u001b[0m\u001b[0;34m(\u001b[0m\u001b[0;34m)\u001b[0m \u001b[0;32mis\u001b[0m \u001b[0;32mnot\u001b[0m \u001b[0;32mNone\u001b[0m\u001b[0;34m:\u001b[0m\u001b[0;34m\u001b[0m\u001b[0;34m\u001b[0m\u001b[0m\n\u001b[0;32m---> 33\u001b[0;31m         raise RuntimeError(\n\u001b[0m\u001b[1;32m     34\u001b[0m             \"asyncio.run() cannot be called from a running event loop\")\n\u001b[1;32m     35\u001b[0m \u001b[0;34m\u001b[0m\u001b[0m\n",
      "\u001b[0;31mRuntimeError\u001b[0m: asyncio.run() cannot be called from a running event loop"
     ]
    }
   ],
   "source": [
    "import asyncio as aio\n",
    "\n",
    "async def count():\n",
    "    print('one')\n",
    "    await aio.sleep(1)\n",
    "    print('two')\n",
    "\n",
    "async def main():\n",
    "    await aio.gather(count(), count())\n",
    "\n",
    "aio.run(main())"
   ]
  },
  {
   "cell_type": "code",
   "execution_count": null,
   "metadata": {},
   "outputs": [],
   "source": [
    "import cv2\n",
    "import matplotlib.pyplot as plt\n",
    "\n",
    "img = cv2.imread('Xnip2021-11-23_11-03-58.png')\n",
    "print(img.shape)\n",
    "\n",
    "# plt.imsave('test.png', img)\n",
    "cv2.imwrite('test.png', img)\n",
    "\n"
   ]
  },
  {
   "cell_type": "code",
   "execution_count": 14,
   "metadata": {},
   "outputs": [
    {
     "name": "stdout",
     "output_type": "stream",
     "text": [
      "3.141792\n"
     ]
    }
   ],
   "source": [
    "import numpy as np\n",
    "\n",
    "r = 2\n",
    "n = 1000000\n",
    "poses = np.random.random((n, 2)) * r*2\n",
    "\n",
    "count = 0\n",
    "\n",
    "for pos in poses:\n",
    "    x, y = pos\n",
    "    if ((x-r) ** 2 + (y-r) ** 2) ** 0.5 <= r:\n",
    "        count += 1\n",
    "print(count / n * 4)\n"
   ]
  }
 ],
 "metadata": {
  "interpreter": {
   "hash": "c39e16fd0cc2871ad864f9cd76c1d4427fc8edbb301baa4012b35ae5166953a3"
  },
  "kernelspec": {
   "display_name": "Python 3.8.8 64-bit ('base': conda)",
   "name": "python3"
  },
  "language_info": {
   "codemirror_mode": {
    "name": "ipython",
    "version": 3
   },
   "file_extension": ".py",
   "mimetype": "text/x-python",
   "name": "python",
   "nbconvert_exporter": "python",
   "pygments_lexer": "ipython3",
   "version": "3.8.8"
  },
  "orig_nbformat": 4
 },
 "nbformat": 4,
 "nbformat_minor": 2
}
